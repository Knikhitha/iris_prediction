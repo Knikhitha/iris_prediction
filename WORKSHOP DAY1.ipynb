{
 "cells": [
  {
   "cell_type": "code",
   "execution_count": null,
   "id": "277ef10a",
   "metadata": {},
   "outputs": [],
   "source": [
    "import pandas as pd\n",
    "\n"
   ]
  },
  {
   "cell_type": "code",
   "execution_count": null,
   "id": "3bb32939",
   "metadata": {},
   "outputs": [],
   "source": [
    "collect=pd.read_csv(\"C:/Users/STUDENT/Downloads/labels_my-project-name_2023-08-03-12-00-14.csv\")"
   ]
  },
  {
   "cell_type": "code",
   "execution_count": null,
   "id": "b576a880",
   "metadata": {},
   "outputs": [],
   "source": [
    "collect.head()"
   ]
  },
  {
   "cell_type": "code",
   "execution_count": null,
   "id": "f2a62462",
   "metadata": {},
   "outputs": [],
   "source": [
    "collect.info()"
   ]
  },
  {
   "cell_type": "code",
   "execution_count": null,
   "id": "7b548f86",
   "metadata": {},
   "outputs": [],
   "source": [
    "collect.sum()"
   ]
  },
  {
   "cell_type": "code",
   "execution_count": null,
   "id": "1eb792f1",
   "metadata": {},
   "outputs": [],
   "source": [
    "collect.isnull().sum()"
   ]
  },
  {
   "cell_type": "code",
   "execution_count": null,
   "id": "bfb54035",
   "metadata": {},
   "outputs": [],
   "source": [
    "collect.dropna"
   ]
  },
  {
   "cell_type": "code",
   "execution_count": null,
   "id": "6cd84698",
   "metadata": {},
   "outputs": [],
   "source": [
    "collect.describe()"
   ]
  },
  {
   "cell_type": "code",
   "execution_count": null,
   "id": "374c26f8",
   "metadata": {},
   "outputs": [],
   "source": [
    "import seaborn as sns"
   ]
  },
  {
   "cell_type": "code",
   "execution_count": null,
   "id": "0b82070d",
   "metadata": {},
   "outputs": [],
   "source": [
    "sns.pairplot(collect)"
   ]
  },
  {
   "cell_type": "code",
   "execution_count": null,
   "id": "fa1fc3d3",
   "metadata": {},
   "outputs": [],
   "source": [
    "k=sns.boxplot(data=collect)"
   ]
  },
  {
   "cell_type": "code",
   "execution_count": null,
   "id": "42d43cc4",
   "metadata": {
    "scrolled": true
   },
   "outputs": [],
   "source": [
    "sns.jointplot(data=collect)"
   ]
  },
  {
   "cell_type": "code",
   "execution_count": null,
   "id": "5c6bfa92",
   "metadata": {
    "scrolled": true
   },
   "outputs": [],
   "source": [
    "sns.displot(data=collect)"
   ]
  },
  {
   "cell_type": "code",
   "execution_count": null,
   "id": "6080c640",
   "metadata": {},
   "outputs": [],
   "source": [
    "import matplotlib.image as img\n",
    "import matplotlib.pyplot as plt\n",
    "from sklearn.model_selection import train_test_split\n"
   ]
  },
  {
   "cell_type": "code",
   "execution_count": null,
   "id": "36b7445a",
   "metadata": {},
   "outputs": [],
   "source": [
    "testing=img.imread(\"C:\\/Users/STUDENT/Desktop/rabit.png\")\n",
    "plt.imshow(testing)"
   ]
  },
  {
   "cell_type": "code",
   "execution_count": null,
   "id": "273fba6e",
   "metadata": {},
   "outputs": [],
   "source": [
    "Start_point=(4,4)\n",
    "End_point=(220,220)\n",
    "color=(255,0,0)\n",
    "thickness=9\n",
    "import cv2"
   ]
  },
  {
   "cell_type": "code",
   "execution_count": null,
   "id": "23172e66",
   "metadata": {},
   "outputs": [],
   "source": [
    "testing=cv2.rectangle(testing,Start_point,End_point,color,thickness)\n"
   ]
  },
  {
   "cell_type": "code",
   "execution_count": null,
   "id": "a77b2c14",
   "metadata": {},
   "outputs": [],
   "source": [
    "cv2.imshow(\"name\",testing)\n",
    "cv2.waitKey(0)"
   ]
  },
  {
   "cell_type": "markdown",
   "id": "8b9dd873",
   "metadata": {},
   "source": []
  },
  {
   "cell_type": "code",
   "execution_count": null,
   "id": "293abec6",
   "metadata": {},
   "outputs": [],
   "source": []
  },
  {
   "cell_type": "code",
   "execution_count": null,
   "id": "3fc99c78",
   "metadata": {},
   "outputs": [],
   "source": []
  }
 ],
 "metadata": {
  "kernelspec": {
   "display_name": "Python 3 (ipykernel)",
   "language": "python",
   "name": "python3"
  },
  "language_info": {
   "codemirror_mode": {
    "name": "ipython",
    "version": 3
   },
   "file_extension": ".py",
   "mimetype": "text/x-python",
   "name": "python",
   "nbconvert_exporter": "python",
   "pygments_lexer": "ipython3",
   "version": "3.9.7"
  }
 },
 "nbformat": 4,
 "nbformat_minor": 5
}
